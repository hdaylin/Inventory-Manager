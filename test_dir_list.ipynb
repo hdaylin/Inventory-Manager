{
 "cells": [
  {
   "cell_type": "code",
   "execution_count": 14,
   "metadata": {
    "collapsed": false
   },
   "outputs": [],
   "source": [
    "#list the files which are in directories and subdirectories.\n",
    "def make_tree(path):\n",
    "    tree = dict(name=path, children=[])\n",
    "    try: lst = os.listdir(path)\n",
    "    except OSError:\n",
    "        pass #ignore errors\n",
    "    else:\n",
    "        return lst\n",
    "\n",
    "    return tree"
   ]
  },
  {
   "cell_type": "code",
   "execution_count": 15,
   "metadata": {
    "collapsed": false
   },
   "outputs": [
    {
     "data": {
      "text/plain": [
       "['FPM_Costing_information-_final.xls', 'kids3.jpg']"
      ]
     },
     "execution_count": 15,
     "metadata": {},
     "output_type": "execute_result"
    }
   ],
   "source": [
    "import os\n",
    "\n",
    "# This is the path to the upload directory\n",
    "my_dir = os.path.dirname('uploads/')\n",
    "data_path = os.path.join(my_dir, 'uploads/')\n",
    "make_tree('uploads')"
   ]
  },
  {
   "cell_type": "code",
   "execution_count": null,
   "metadata": {
    "collapsed": true
   },
   "outputs": [],
   "source": []
  }
 ],
 "metadata": {
  "anaconda-cloud": {},
  "kernelspec": {
   "display_name": "Python [default]",
   "language": "python",
   "name": "python2"
  },
  "language_info": {
   "codemirror_mode": {
    "name": "ipython",
    "version": 2
   },
   "file_extension": ".py",
   "mimetype": "text/x-python",
   "name": "python",
   "nbconvert_exporter": "python",
   "pygments_lexer": "ipython2",
   "version": "2.7.12"
  }
 },
 "nbformat": 4,
 "nbformat_minor": 1
}
